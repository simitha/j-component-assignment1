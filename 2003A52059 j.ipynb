{
  "nbformat": 4,
  "nbformat_minor": 0,
  "metadata": {
    "colab": {
      "name": "Welcome To Colaboratory",
      "provenance": [],
      "collapsed_sections": []
    },
    "kernelspec": {
      "display_name": "Python 3",
      "name": "python3"
    }
  },
  "cells": [
    {
      "cell_type": "markdown",
      "metadata": {
        "id": "5fCEDCU_qrC0"
      },
      "source": [
        "<p><img alt=\"Colaboratory logo\" height=\"45px\" src=\"/img/colab_favicon.ico\" align=\"left\" hspace=\"10px\" vspace=\"0px\"></p>\n",
        "\n",
        "<h1>What is Colaboratory?</h1>\n",
        "\n",
        "Colaboratory, or \"Colab\" for short, allows you to write and execute Python in your browser, with \n",
        "- Zero configuration required\n",
        "- Free access to GPUs\n",
        "- Easy sharing\n",
        "\n",
        "Whether you're a **student**, a **data scientist** or an **AI researcher**, Colab can make your work easier. Watch [Introduction to Colab](https://www.youtube.com/watch?v=inN8seMm7UI) to learn more, or just get started below!"
      ]
    },
    {
      "cell_type": "markdown",
      "metadata": {
        "id": "GJBs_flRovLc"
      },
      "source": [
        "## **Getting started**\n",
        "\n",
        "The document you are reading is not a static web page, but an interactive environment called a **Colab notebook** that lets you write and execute code.\n",
        "\n",
        "For example, here is a **code cell** with a short Python script that computes a value, stores it in a variable, and prints the result:"
      ]
    },
    {
      "cell_type": "code",
      "metadata": {
        "colab": {
          "base_uri": "https://localhost:8080/",
          "height": 34
        },
        "id": "gJr_9dXGpJ05",
        "outputId": "9f556d03-ec67-4950-a485-cfdba9ddd14d"
      },
      "source": [
        "seconds_in_a_day = 24 * 60 * 60\n",
        "seconds_in_a_day"
      ],
      "execution_count": null,
      "outputs": [
        {
          "data": {
            "text/plain": [
              "86400"
            ]
          },
          "execution_count": 0,
          "metadata": {
            "tags": []
          },
          "output_type": "execute_result"
        }
      ]
    },
    {
      "cell_type": "markdown",
      "metadata": {
        "id": "2fhs6GZ4qFMx"
      },
      "source": [
        "To execute the code in the above cell, select it with a click and then either press the play button to the left of the code, or use the keyboard shortcut \"Command/Ctrl+Enter\". To edit the code, just click the cell and start editing.\n",
        "\n",
        "Variables that you define in one cell can later be used in other cells:"
      ]
    },
    {
      "cell_type": "code",
      "metadata": {
        "colab": {
          "base_uri": "https://localhost:8080/",
          "height": 34
        },
        "id": "-gE-Ez1qtyIA",
        "outputId": "94cb2224-0edf-457b-90b5-0ac3488d8a97"
      },
      "source": [
        "seconds_in_a_week = 7 * seconds_in_a_day\n",
        "seconds_in_a_week"
      ],
      "execution_count": null,
      "outputs": [
        {
          "data": {
            "text/plain": [
              "604800"
            ]
          },
          "execution_count": 0,
          "metadata": {
            "tags": []
          },
          "output_type": "execute_result"
        }
      ]
    },
    {
      "cell_type": "markdown",
      "metadata": {
        "id": "lSrWNr3MuFUS"
      },
      "source": [
        "Colab notebooks allow you to combine **executable code** and **rich text** in a single document, along with **images**, **HTML**, **LaTeX** and more. When you create your own Colab notebooks, they are stored in your Google Drive account. You can easily share your Colab notebooks with co-workers or friends, allowing them to comment on your notebooks or even edit them. To learn more, see [Overview of Colab](/notebooks/basic_features_overview.ipynb). To create a new Colab notebook you can use the File menu above, or use the following link: [create a new Colab notebook](http://colab.research.google.com#create=true).\n",
        "\n",
        "Colab notebooks are Jupyter notebooks that are hosted by Colab. To learn more about the Jupyter project, see [jupyter.org](https://www.jupyter.org)."
      ]
    },
    {
      "cell_type": "markdown",
      "metadata": {
        "id": "UdRyKR44dcNI"
      },
      "source": [
        "## Data science\n",
        "\n",
        "With Colab you can harness the full power of popular Python libraries to analyze and visualize data. The code cell below uses **numpy** to generate some random data, and uses **matplotlib** to visualize it. To edit the code, just click the cell and start editing."
      ]
    },
    {
      "cell_type": "code",
      "metadata": {
        "colab": {
          "base_uri": "https://localhost:8080/",
          "height": 281
        },
        "id": "C4HZx7Gndbrh",
        "outputId": "46abc637-6abd-41b2-9bba-80a7ae992e06"
      },
      "source": [
        "import numpy as np\n",
        "from matplotlib import pyplot as plt\n",
        "\n",
        "ys = 200 + np.random.randn(100)\n",
        "x = [x for x in range(len(ys))]\n",
        "\n",
        "plt.plot(x, ys, '-')\n",
        "plt.fill_between(x, ys, 195, where=(ys > 195), facecolor='g', alpha=0.6)\n",
        "\n",
        "plt.title(\"Sample Visualization\")\n",
        "plt.show()"
      ],
      "execution_count": null,
      "outputs": [
        {
          "data": {
            "image/png": "[encoded data removed]",
            "text/plain": [
              "<Figure size 432x288 with 1 Axes>"
            ]
          },
          "metadata": {
            "tags": []
          },
          "output_type": "display_data"
        }
      ]
    },
    {
      "cell_type": "markdown",
      "metadata": {
        "id": "4_kCnsPUqS6o"
      },
      "source": [
        "You can import your own data into Colab notebooks from your Google Drive account, including from spreadsheets, as well as from Github and many other sources. To learn more about importing data, and how Colab can be used for data science, see the links below under [Working with Data](#working-with-data)."
      ]
    },
    {
      "cell_type": "markdown",
      "metadata": {
        "id": "OwuxHmxllTwN"
      },
      "source": [
        "## Machine learning\n",
        "\n",
        "With Colab you can import an image dataset, train an image classifier on it, and evaluate the model, all in just [a few lines of code](https://colab.research.google.com/github/tensorflow/docs/blob/master/site/en/tutorials/quickstart/beginner.ipynb). Colab notebooks execute code on Google's cloud servers, meaning you can leverage the power of Google hardware, including [GPUs and TPUs](#using-accelerated-hardware), regardless of the power of your machine. All you need is a browser."
      ]
    },
    {
      "cell_type": "markdown",
      "metadata": {
        "id": "ufxBm1yRnruN"
      },
      "source": [
        "Colab is used extensively in the machine learning community with applications including:\n",
        "- Getting started with TensorFlow\n",
        "- Developing and training neural networks\n",
        "- Experimenting with TPUs\n",
        "- Disseminating AI research\n",
        "- Creating tutorials\n",
        "\n",
        "To see sample Colab notebooks that demonstrate machine learning applications, see the [machine learning examples](#machine-learning-examples) below."
      ]
    },
    {
      "cell_type": "markdown",
      "metadata": {
        "id": "-Rh3-Vt9Nev9"
      },
      "source": [
        "## More Resources\n",
        "\n",
        "### Working with Notebooks in Colab\n",
        "- [Overview of Colaboratory](/notebooks/basic_features_overview.ipynb)\n",
        "- [Guide to Markdown](/notebooks/markdown_guide.ipynb)\n",
        "- [Importing libraries and installing dependencies](/notebooks/snippets/importing_libraries.ipynb)\n",
        "- [Saving and loading notebooks in GitHub](https://colab.research.google.com/github/googlecolab/colabtools/blob/master/notebooks/colab-github-demo.ipynb)\n",
        "- [Interactive forms](/notebooks/forms.ipynb)\n",
        "- [Interactive widgets](/notebooks/widgets.ipynb)\n",
        "- <img src=\"/img/new.png\" height=\"20px\" align=\"left\" hspace=\"4px\" alt=\"New\"></img>\n",
        " [TensorFlow 2 in Colab](/notebooks/tensorflow_version.ipynb)\n",
        "\n",
        "<a name=\"working-with-data\"></a>\n",
        "### Working with Data\n",
        "- [Loading data: Drive, Sheets, and Google Cloud Storage](/notebooks/io.ipynb) \n",
        "- [Charts: visualizing data](/notebooks/charts.ipynb)\n",
        "- [Getting started with BigQuery](/notebooks/bigquery.ipynb)\n",
        "\n",
        "### Machine Learning Crash Course\n",
        "These are a few of the notebooks from Google's online Machine Learning course. See the [full course website](https://developers.google.com/machine-learning/crash-course/) for more.\n",
        "- [Intro to Pandas DataFrame](https://colab.research.google.com/github/google/eng-edu/blob/main/ml/cc/exercises/pandas_dataframe_ultraquick_tutorial.ipynb)\n",
        "- [Linear regression with tf.keras using synthetic data](https://colab.research.google.com/github/google/eng-edu/blob/main/ml/cc/exercises/linear_regression_with_synthetic_data.ipynb)\n",
        "\n",
        "\n",
        "<a name=\"using-accelerated-hardware\"></a>\n",
        "### Using Accelerated Hardware\n",
        "- [TensorFlow with GPUs](/notebooks/gpu.ipynb)\n",
        "- [TensorFlow with TPUs](/notebooks/tpu.ipynb)"
      ]
    },
    {
      "cell_type": "markdown",
      "metadata": {
        "id": "P-H6Lw1vyNNd"
      },
      "source": [
        "<a name=\"machine-learning-examples\"></a>\n",
        "\n",
        "## Machine Learning Examples\n",
        "\n",
        "To see end-to-end examples of the interactive machine learning analyses that Colaboratory makes possible, check out these  tutorials using models from [TensorFlow Hub](https://tfhub.dev).\n",
        "\n",
        "A few featured examples:\n",
        "\n",
        "- [Retraining an Image Classifier](https://tensorflow.org/hub/tutorials/tf2_image_retraining): Build a Keras model on top of a pre-trained image classifier to distinguish flowers.\n",
        "- [Text Classification](https://tensorflow.org/hub/tutorials/tf2_text_classification): Classify IMDB movie reviews as either *positive* or *negative*.\n",
        "- [Style Transfer](https://tensorflow.org/hub/tutorials/tf2_arbitrary_image_stylization): Use deep learning to transfer style between images.\n",
        "- [Multilingual Universal Sentence Encoder Q&A](https://tensorflow.org/hub/tutorials/retrieval_with_tf_hub_universal_encoder_qa): Use a machine learning model to answer questions from the SQuAD dataset.\n",
        "- [Video Interpolation](https://tensorflow.org/hub/tutorials/tweening_conv3d): Predict what happened in a video between the first and the last frame.\n"
      ]
    },
    {
      "cell_type": "code",
      "metadata": {
        "colab": {
          "base_uri": "https://localhost:8080/"
        },
        "id": "-SWgtcXxHmvu",
        "outputId": "ba454671-6a61-43f8-b23e-439fa0eada23"
      },
      "source": [
        "import pandas as pd\n",
        "d=pd.read_csv('/content/Life Expectancy Data-1.csv')\n",
        "print(d)"
      ],
      "execution_count": 1,
      "outputs": [
        {
          "output_type": "stream",
          "name": "stdout",
          "text": [
            "          Country  Year  ... Income composition of resources  Schooling\n",
            "0     Afghanistan  2015  ...                           0.479       10.1\n",
            "1     Afghanistan  2014  ...                           0.476       10.0\n",
            "2     Afghanistan  2013  ...                           0.470        9.9\n",
            "3     Afghanistan  2012  ...                           0.463        9.8\n",
            "4     Afghanistan  2011  ...                           0.454        9.5\n",
            "...           ...   ...  ...                             ...        ...\n",
            "2933     Zimbabwe  2004  ...                           0.407        9.2\n",
            "2934     Zimbabwe  2003  ...                           0.418        9.5\n",
            "2935     Zimbabwe  2002  ...                           0.427       10.0\n",
            "2936     Zimbabwe  2001  ...                           0.427        9.8\n",
            "2937     Zimbabwe  2000  ...                           0.434        9.8\n",
            "\n",
            "[2938 rows x 22 columns]\n"
          ]
        }
      ]
    },
    {
      "cell_type": "code",
      "metadata": {
        "colab": {
          "base_uri": "https://localhost:8080/"
        },
        "id": "UoezYpanIla2",
        "outputId": "15f83e22-a7e7-4660-94dd-0b83c13b8a46"
      },
      "source": [
        "x1=d['Adult Mortality']\n",
        "y=d['Life expectancy ']\n",
        "print(x1,y)"
      ],
      "execution_count": 11,
      "outputs": [
        {
          "output_type": "stream",
          "name": "stdout",
          "text": [
            "0       263.0\n",
            "1       271.0\n",
            "2       268.0\n",
            "3       272.0\n",
            "4       275.0\n",
            "        ...  \n",
            "2933    723.0\n",
            "2934    715.0\n",
            "2935     73.0\n",
            "2936    686.0\n",
            "2937    665.0\n",
            "Name: Adult Mortality, Length: 2938, dtype: float64 0       65.0\n",
            "1       59.9\n",
            "2       59.9\n",
            "3       59.5\n",
            "4       59.2\n",
            "        ... \n",
            "2933    44.3\n",
            "2934    44.5\n",
            "2935    44.8\n",
            "2936    45.3\n",
            "2937    46.0\n",
            "Name: Life expectancy , Length: 2938, dtype: float64\n"
          ]
        }
      ]
    },
    {
      "cell_type": "code",
      "metadata": {
        "colab": {
          "base_uri": "https://localhost:8080/",
          "height": 282
        },
        "id": "9OaK5n5BJpf2",
        "outputId": "0da7458e-f04e-4f62-8fba-6c57c4a81903"
      },
      "source": [
        "from matplotlib import pyplot as plt\n",
        "plt.plot(x2,y,'g')"
      ],
      "execution_count": 15,
      "outputs": [
        {
          "output_type": "execute_result",
          "data": {
            "text/plain": [
              "[<matplotlib.lines.Line2D at 0x7faebee2a910>]"
            ]
          },
          "metadata": {},
          "execution_count": 15
        },
        {
          "output_type": "display_data",
          "data": {
            "image/png": "[encoded data removed]",
            "text/plain": [
              "<Figure size 432x288 with 1 Axes>"
            ]
          },
          "metadata": {
            "needs_background": "light"
          }
        }
      ]
    },
    {
      "cell_type": "code",
      "metadata": {
        "colab": {
          "base_uri": "https://localhost:8080/"
        },
        "id": "4dNlCMbLKuj6",
        "outputId": "a8bae85e-5339-400f-f895-444fb9ef1e28"
      },
      "source": [
        "x2=d['infant deaths']\n",
        "y=d['Life expectancy ']\n",
        "print(x2,y)"
      ],
      "execution_count": 14,
      "outputs": [
        {
          "output_type": "stream",
          "name": "stdout",
          "text": [
            "0       62\n",
            "1       64\n",
            "2       66\n",
            "3       69\n",
            "4       71\n",
            "        ..\n",
            "2933    27\n",
            "2934    26\n",
            "2935    25\n",
            "2936    25\n",
            "2937    24\n",
            "Name: infant deaths, Length: 2938, dtype: int64 0       65.0\n",
            "1       59.9\n",
            "2       59.9\n",
            "3       59.5\n",
            "4       59.2\n",
            "        ... \n",
            "2933    44.3\n",
            "2934    44.5\n",
            "2935    44.8\n",
            "2936    45.3\n",
            "2937    46.0\n",
            "Name: Life expectancy , Length: 2938, dtype: float64\n"
          ]
        }
      ]
    },
    {
      "cell_type": "code",
      "metadata": {
        "colab": {
          "base_uri": "https://localhost:8080/"
        },
        "id": "RnHq1zHjLT3z",
        "outputId": "1109316e-9809-42b0-c28c-3211e5fbfd26"
      },
      "source": [
        "x3=d['Alcohol']\n",
        "y=d['Life expectancy ']\n",
        "print(x3,y)"
      ],
      "execution_count": 16,
      "outputs": [
        {
          "output_type": "stream",
          "name": "stdout",
          "text": [
            "0       0.01\n",
            "1       0.01\n",
            "2       0.01\n",
            "3       0.01\n",
            "4       0.01\n",
            "        ... \n",
            "2933    4.36\n",
            "2934    4.06\n",
            "2935    4.43\n",
            "2936    1.72\n",
            "2937    1.68\n",
            "Name: Alcohol, Length: 2938, dtype: float64 0       65.0\n",
            "1       59.9\n",
            "2       59.9\n",
            "3       59.5\n",
            "4       59.2\n",
            "        ... \n",
            "2933    44.3\n",
            "2934    44.5\n",
            "2935    44.8\n",
            "2936    45.3\n",
            "2937    46.0\n",
            "Name: Life expectancy , Length: 2938, dtype: float64\n"
          ]
        }
      ]
    },
    {
      "cell_type": "code",
      "metadata": {
        "colab": {
          "base_uri": "https://localhost:8080/"
        },
        "id": "h9GaOfqrMDM3",
        "outputId": "7dc49929-0c66-4f27-c1da-97dae20183a0"
      },
      "source": [
        "x4=d['percentage expenditure']\n",
        "y=d['Life expectancy ']\n",
        "print(x4,y)"
      ],
      "execution_count": 18,
      "outputs": [
        {
          "output_type": "stream",
          "name": "stdout",
          "text": [
            "0       71.279624\n",
            "1       73.523582\n",
            "2       73.219243\n",
            "3       78.184215\n",
            "4        7.097109\n",
            "          ...    \n",
            "2933     0.000000\n",
            "2934     0.000000\n",
            "2935     0.000000\n",
            "2936     0.000000\n",
            "2937     0.000000\n",
            "Name: percentage expenditure, Length: 2938, dtype: float64 0       65.0\n",
            "1       59.9\n",
            "2       59.9\n",
            "3       59.5\n",
            "4       59.2\n",
            "        ... \n",
            "2933    44.3\n",
            "2934    44.5\n",
            "2935    44.8\n",
            "2936    45.3\n",
            "2937    46.0\n",
            "Name: Life expectancy , Length: 2938, dtype: float64\n"
          ]
        }
      ]
    },
    {
      "cell_type": "code",
      "metadata": {
        "colab": {
          "base_uri": "https://localhost:8080/"
        },
        "id": "M3E-GBE_MySZ",
        "outputId": "874ccbfd-c7e0-4483-aa3d-5be60798f5c8"
      },
      "source": [
        "x5=d['Hepatitis B']\n",
        "y=d['Life expectancy ']\n",
        "print(x5,y)"
      ],
      "execution_count": 20,
      "outputs": [
        {
          "output_type": "stream",
          "name": "stdout",
          "text": [
            "0       65.0\n",
            "1       62.0\n",
            "2       64.0\n",
            "3       67.0\n",
            "4       68.0\n",
            "        ... \n",
            "2933    68.0\n",
            "2934     7.0\n",
            "2935    73.0\n",
            "2936    76.0\n",
            "2937    79.0\n",
            "Name: Hepatitis B, Length: 2938, dtype: float64 0       65.0\n",
            "1       59.9\n",
            "2       59.9\n",
            "3       59.5\n",
            "4       59.2\n",
            "        ... \n",
            "2933    44.3\n",
            "2934    44.5\n",
            "2935    44.8\n",
            "2936    45.3\n",
            "2937    46.0\n",
            "Name: Life expectancy , Length: 2938, dtype: float64\n"
          ]
        }
      ]
    },
    {
      "cell_type": "code",
      "metadata": {
        "colab": {
          "base_uri": "https://localhost:8080/"
        },
        "id": "ThFa3KzRNSmw",
        "outputId": "e3dd5d0a-d8ec-40ba-9b18-9e39e54879d4"
      },
      "source": [
        "x6=d['Measles ']\n",
        "y=d['Life expectancy ']\n",
        "print(x6,y)"
      ],
      "execution_count": 22,
      "outputs": [
        {
          "output_type": "stream",
          "name": "stdout",
          "text": [
            "0       1154\n",
            "1        492\n",
            "2        430\n",
            "3       2787\n",
            "4       3013\n",
            "        ... \n",
            "2933      31\n",
            "2934     998\n",
            "2935     304\n",
            "2936     529\n",
            "2937    1483\n",
            "Name: Measles , Length: 2938, dtype: int64 0       65.0\n",
            "1       59.9\n",
            "2       59.9\n",
            "3       59.5\n",
            "4       59.2\n",
            "        ... \n",
            "2933    44.3\n",
            "2934    44.5\n",
            "2935    44.8\n",
            "2936    45.3\n",
            "2937    46.0\n",
            "Name: Life expectancy , Length: 2938, dtype: float64\n"
          ]
        }
      ]
    },
    {
      "cell_type": "code",
      "metadata": {
        "colab": {
          "base_uri": "https://localhost:8080/"
        },
        "id": "f8K6Yb3qNw0i",
        "outputId": "f7632ad6-05ae-4c27-ba4d-11cb11d398bb"
      },
      "source": [
        "x7=d[' BMI ']\n",
        "y=d['Life expectancy ']\n",
        "print(x7,y)"
      ],
      "execution_count": 76,
      "outputs": [
        {
          "output_type": "stream",
          "name": "stdout",
          "text": [
            "0       19.1\n",
            "1       18.6\n",
            "2       18.1\n",
            "3       17.6\n",
            "4       17.2\n",
            "        ... \n",
            "2933    27.1\n",
            "2934    26.7\n",
            "2935    26.3\n",
            "2936    25.9\n",
            "2937    25.5\n",
            "Name:  BMI , Length: 2938, dtype: float64 0       65.0\n",
            "1       59.9\n",
            "2       59.9\n",
            "3       59.5\n",
            "4       59.2\n",
            "        ... \n",
            "2933    44.3\n",
            "2934    44.5\n",
            "2935    44.8\n",
            "2936    45.3\n",
            "2937    46.0\n",
            "Name: Life expectancy , Length: 2938, dtype: float64\n"
          ]
        }
      ]
    },
    {
      "cell_type": "code",
      "metadata": {
        "colab": {
          "base_uri": "https://localhost:8080/"
        },
        "id": "jqNi3khsPDvf",
        "outputId": "abb49ff2-35b4-4f3d-f02f-b1a6cb7d994a"
      },
      "source": [
        "x8=d['under-five deaths ']\n",
        "y=d['Life expectancy ']\n",
        "print(x8,y)"
      ],
      "execution_count": 38,
      "outputs": [
        {
          "output_type": "stream",
          "name": "stdout",
          "text": [
            "0       83\n",
            "1       86\n",
            "2       89\n",
            "3       93\n",
            "4       97\n",
            "        ..\n",
            "2933    42\n",
            "2934    41\n",
            "2935    40\n",
            "2936    39\n",
            "2937    39\n",
            "Name: under-five deaths , Length: 2938, dtype: int64 0       65.0\n",
            "1       59.9\n",
            "2       59.9\n",
            "3       59.5\n",
            "4       59.2\n",
            "        ... \n",
            "2933    44.3\n",
            "2934    44.5\n",
            "2935    44.8\n",
            "2936    45.3\n",
            "2937    46.0\n",
            "Name: Life expectancy , Length: 2938, dtype: float64\n"
          ]
        }
      ]
    },
    {
      "cell_type": "code",
      "metadata": {
        "colab": {
          "base_uri": "https://localhost:8080/"
        },
        "id": "_lk_RFd4Q1ot",
        "outputId": "aa4a0b89-20b8-42a4-8e25-22c814dbcdc5"
      },
      "source": [
        "x9=d['Polio']\n",
        "y=d['Life expectancy ']\n",
        "print(x8,y)"
      ],
      "execution_count": 39,
      "outputs": [
        {
          "output_type": "stream",
          "name": "stdout",
          "text": [
            "0       83\n",
            "1       86\n",
            "2       89\n",
            "3       93\n",
            "4       97\n",
            "        ..\n",
            "2933    42\n",
            "2934    41\n",
            "2935    40\n",
            "2936    39\n",
            "2937    39\n",
            "Name: under-five deaths , Length: 2938, dtype: int64 0       65.0\n",
            "1       59.9\n",
            "2       59.9\n",
            "3       59.5\n",
            "4       59.2\n",
            "        ... \n",
            "2933    44.3\n",
            "2934    44.5\n",
            "2935    44.8\n",
            "2936    45.3\n",
            "2937    46.0\n",
            "Name: Life expectancy , Length: 2938, dtype: float64\n"
          ]
        }
      ]
    },
    {
      "cell_type": "code",
      "metadata": {
        "colab": {
          "base_uri": "https://localhost:8080/"
        },
        "id": "_jFTBvhuRQUG",
        "outputId": "e6f67f94-28c1-4826-b65e-a5ba1812b10d"
      },
      "source": [
        "x10=d['Total expenditure']\n",
        "y=d['Life expectancy ']\n",
        "print(x9,y)"
      ],
      "execution_count": 40,
      "outputs": [
        {
          "output_type": "stream",
          "name": "stdout",
          "text": [
            "0        6.0\n",
            "1       58.0\n",
            "2       62.0\n",
            "3       67.0\n",
            "4       68.0\n",
            "        ... \n",
            "2933    67.0\n",
            "2934     7.0\n",
            "2935    73.0\n",
            "2936    76.0\n",
            "2937    78.0\n",
            "Name: Polio, Length: 2938, dtype: float64 0       65.0\n",
            "1       59.9\n",
            "2       59.9\n",
            "3       59.5\n",
            "4       59.2\n",
            "        ... \n",
            "2933    44.3\n",
            "2934    44.5\n",
            "2935    44.8\n",
            "2936    45.3\n",
            "2937    46.0\n",
            "Name: Life expectancy , Length: 2938, dtype: float64\n"
          ]
        }
      ]
    },
    {
      "cell_type": "code",
      "metadata": {
        "colab": {
          "base_uri": "https://localhost:8080/"
        },
        "id": "4S6Gwb8USAVg",
        "outputId": "abe9e60b-2295-4a5b-904f-829b1c7e7ac5"
      },
      "source": [
        "x11=d['Diphtheria ']\n",
        "y=d['Life expectancy ']\n",
        "print(x11,y)"
      ],
      "execution_count": 67,
      "outputs": [
        {
          "output_type": "stream",
          "name": "stdout",
          "text": [
            "0       65.0\n",
            "1       62.0\n",
            "2       64.0\n",
            "3       67.0\n",
            "4       68.0\n",
            "        ... \n",
            "2933    65.0\n",
            "2934    68.0\n",
            "2935    71.0\n",
            "2936    75.0\n",
            "2937    78.0\n",
            "Name: Diphtheria , Length: 2938, dtype: float64 0       65.0\n",
            "1       59.9\n",
            "2       59.9\n",
            "3       59.5\n",
            "4       59.2\n",
            "        ... \n",
            "2933    44.3\n",
            "2934    44.5\n",
            "2935    44.8\n",
            "2936    45.3\n",
            "2937    46.0\n",
            "Name: Life expectancy , Length: 2938, dtype: float64\n"
          ]
        }
      ]
    },
    {
      "cell_type": "code",
      "metadata": {
        "colab": {
          "base_uri": "https://localhost:8080/"
        },
        "id": "aALOJwaRS9aV",
        "outputId": "a79968ea-450b-4570-bc3c-6e8d6d30a9d5"
      },
      "source": [
        "x12=d[' HIV/AIDS']\n",
        "y=d['Life expectancy ']\n",
        "print(x12,y)\n"
      ],
      "execution_count": 77,
      "outputs": [
        {
          "output_type": "stream",
          "name": "stdout",
          "text": [
            "0        0.1\n",
            "1        0.1\n",
            "2        0.1\n",
            "3        0.1\n",
            "4        0.1\n",
            "        ... \n",
            "2933    33.6\n",
            "2934    36.7\n",
            "2935    39.8\n",
            "2936    42.1\n",
            "2937    43.5\n",
            "Name:  HIV/AIDS, Length: 2938, dtype: float64 0       65.0\n",
            "1       59.9\n",
            "2       59.9\n",
            "3       59.5\n",
            "4       59.2\n",
            "        ... \n",
            "2933    44.3\n",
            "2934    44.5\n",
            "2935    44.8\n",
            "2936    45.3\n",
            "2937    46.0\n",
            "Name: Life expectancy , Length: 2938, dtype: float64\n"
          ]
        }
      ]
    },
    {
      "cell_type": "code",
      "metadata": {
        "colab": {
          "base_uri": "https://localhost:8080/"
        },
        "id": "fDFUOqeUUBiN",
        "outputId": "5573c5cd-be0e-4199-e8e6-4a0e49066e28"
      },
      "source": [
        "x13=d['GDP']\n",
        "y=d['Life expectancy ']\n",
        "print(x13,y)"
      ],
      "execution_count": 55,
      "outputs": [
        {
          "output_type": "stream",
          "name": "stdout",
          "text": [
            "0       584.259210\n",
            "1       612.696514\n",
            "2       631.744976\n",
            "3       669.959000\n",
            "4        63.537231\n",
            "           ...    \n",
            "2933    454.366654\n",
            "2934    453.351155\n",
            "2935     57.348340\n",
            "2936    548.587312\n",
            "2937    547.358879\n",
            "Name: GDP, Length: 2938, dtype: float64 0       65.0\n",
            "1       59.9\n",
            "2       59.9\n",
            "3       59.5\n",
            "4       59.2\n",
            "        ... \n",
            "2933    44.3\n",
            "2934    44.5\n",
            "2935    44.8\n",
            "2936    45.3\n",
            "2937    46.0\n",
            "Name: Life expectancy , Length: 2938, dtype: float64\n"
          ]
        }
      ]
    },
    {
      "cell_type": "code",
      "metadata": {
        "colab": {
          "base_uri": "https://localhost:8080/"
        },
        "id": "9_sr8rs9Uns_",
        "outputId": "52c781da-f452-4418-ecda-564889a7717e"
      },
      "source": [
        "x14=d['Population']\n",
        "y=d['Life expectancy ']\n",
        "print(x14,y)"
      ],
      "execution_count": 54,
      "outputs": [
        {
          "output_type": "stream",
          "name": "stdout",
          "text": [
            "0       33736494.0\n",
            "1         327582.0\n",
            "2       31731688.0\n",
            "3        3696958.0\n",
            "4        2978599.0\n",
            "           ...    \n",
            "2933    12777511.0\n",
            "2934    12633897.0\n",
            "2935      125525.0\n",
            "2936    12366165.0\n",
            "2937    12222251.0\n",
            "Name: Population, Length: 2938, dtype: float64 0       65.0\n",
            "1       59.9\n",
            "2       59.9\n",
            "3       59.5\n",
            "4       59.2\n",
            "        ... \n",
            "2933    44.3\n",
            "2934    44.5\n",
            "2935    44.8\n",
            "2936    45.3\n",
            "2937    46.0\n",
            "Name: Life expectancy , Length: 2938, dtype: float64\n"
          ]
        }
      ]
    },
    {
      "cell_type": "code",
      "metadata": {
        "colab": {
          "base_uri": "https://localhost:8080/"
        },
        "id": "E4qKBpJJWG3I",
        "outputId": "46ca82a4-2cc8-4084-bdce-d4b11a0e8be8"
      },
      "source": [
        "x15=d[' thinness  1-19 years']\n",
        "y=d['Life expectancy ']\n",
        "print(x15,y)"
      ],
      "execution_count": 78,
      "outputs": [
        {
          "output_type": "stream",
          "name": "stdout",
          "text": [
            "0       17.2\n",
            "1       17.5\n",
            "2       17.7\n",
            "3       17.9\n",
            "4       18.2\n",
            "        ... \n",
            "2933     9.4\n",
            "2934     9.8\n",
            "2935     1.2\n",
            "2936     1.6\n",
            "2937    11.0\n",
            "Name:  thinness  1-19 years, Length: 2938, dtype: float64 0       65.0\n",
            "1       59.9\n",
            "2       59.9\n",
            "3       59.5\n",
            "4       59.2\n",
            "        ... \n",
            "2933    44.3\n",
            "2934    44.5\n",
            "2935    44.8\n",
            "2936    45.3\n",
            "2937    46.0\n",
            "Name: Life expectancy , Length: 2938, dtype: float64\n"
          ]
        }
      ]
    },
    {
      "cell_type": "code",
      "metadata": {
        "colab": {
          "base_uri": "https://localhost:8080/"
        },
        "id": "UZWNrAVAWhsM",
        "outputId": "3c711b7d-c2ee-4d82-f9ed-3e26052beaee"
      },
      "source": [
        "x16=d['Income composition of resources']\n",
        "y=d['Life expectancy ']\n",
        "print(x16,y)"
      ],
      "execution_count": 58,
      "outputs": [
        {
          "output_type": "stream",
          "name": "stdout",
          "text": [
            "0       0.479\n",
            "1       0.476\n",
            "2       0.470\n",
            "3       0.463\n",
            "4       0.454\n",
            "        ...  \n",
            "2933    0.407\n",
            "2934    0.418\n",
            "2935    0.427\n",
            "2936    0.427\n",
            "2937    0.434\n",
            "Name: Income composition of resources, Length: 2938, dtype: float64 0       65.0\n",
            "1       59.9\n",
            "2       59.9\n",
            "3       59.5\n",
            "4       59.2\n",
            "        ... \n",
            "2933    44.3\n",
            "2934    44.5\n",
            "2935    44.8\n",
            "2936    45.3\n",
            "2937    46.0\n",
            "Name: Life expectancy , Length: 2938, dtype: float64\n"
          ]
        }
      ]
    },
    {
      "cell_type": "code",
      "metadata": {
        "colab": {
          "base_uri": "https://localhost:8080/"
        },
        "id": "tTdQj1PPW8bx",
        "outputId": "a6cc8471-2d33-4d68-f773-86f9d903720c"
      },
      "source": [
        "x17=d['Schooling']\n",
        "y=d['Life expectancy ']\n",
        "print(x17,y)"
      ],
      "execution_count": 59,
      "outputs": [
        {
          "output_type": "stream",
          "name": "stdout",
          "text": [
            "0       10.1\n",
            "1       10.0\n",
            "2        9.9\n",
            "3        9.8\n",
            "4        9.5\n",
            "        ... \n",
            "2933     9.2\n",
            "2934     9.5\n",
            "2935    10.0\n",
            "2936     9.8\n",
            "2937     9.8\n",
            "Name: Schooling, Length: 2938, dtype: float64 0       65.0\n",
            "1       59.9\n",
            "2       59.9\n",
            "3       59.5\n",
            "4       59.2\n",
            "        ... \n",
            "2933    44.3\n",
            "2934    44.5\n",
            "2935    44.8\n",
            "2936    45.3\n",
            "2937    46.0\n",
            "Name: Life expectancy , Length: 2938, dtype: float64\n"
          ]
        }
      ]
    },
    {
      "cell_type": "code",
      "metadata": {
        "colab": {
          "base_uri": "https://localhost:8080/"
        },
        "id": "j_nbqpD5XuwV",
        "outputId": "11a15314-195a-4d15-ee92-7cb4f5b04528"
      },
      "source": [
        "x18=['thinness 5-9 years']\n",
        "y=d['Life expectancy ']\n",
        "print(x18,y)"
      ],
      "execution_count": 60,
      "outputs": [
        {
          "output_type": "stream",
          "name": "stdout",
          "text": [
            "['thinness 5-9 years'] 0       65.0\n",
            "1       59.9\n",
            "2       59.9\n",
            "3       59.5\n",
            "4       59.2\n",
            "        ... \n",
            "2933    44.3\n",
            "2934    44.5\n",
            "2935    44.8\n",
            "2936    45.3\n",
            "2937    46.0\n",
            "Name: Life expectancy , Length: 2938, dtype: float64\n"
          ]
        }
      ]
    }
  ]
}